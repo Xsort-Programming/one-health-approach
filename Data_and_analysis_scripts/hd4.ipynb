{
 "cells": [
  {
   "cell_type": "code",
   "execution_count": 52,
   "metadata": {
    "scrolled": true
   },
   "outputs": [
    {
     "name": "stdout",
     "output_type": "stream",
     "text": [
      "(21, 6)\n"
     ]
    }
   ],
   "source": [
    "# SCALE FACTOR 0.02, DONT FORGET TO AVG NIGHT AND DAY DATA\n",
    "import pandas as pd\n",
    "import numpy as np\n",
    "import xarray as xr\n",
    "from pyhdf.SD import SD, SDC\n",
    "import pprint\n",
    "import json\n",
    "\n",
    "file_name = 'MYD11C1.A2020061.006.2020062224914.hdf'\n",
    "readTO = 'temp_data_03.json'\n",
    "file = SD(file_name,SDC.READ)\n",
    "print(file.info())\n",
    "datasets_dic = file.datasets()\n",
    "\n",
    "#for idx,sds in enumerate(datasets_dic.keys()):\n",
    "    #print(idx,sds)\n",
    "    \n",
    "sds_day = file.select('LST_Day_CMG')\n",
    "sds_night = file.select('LST_Night_CMG')\n",
    "ddata = sds_day.get()\n",
    "ndata = sds_night.get()\n",
    "\n",
    "ddf = pd.DataFrame(ddata)\n",
    "ndf = pd.DataFrame(ndata)\n",
    "\n",
    "dt7k={}\n",
    "for i in range(0,7200):\n",
    "    dt7k[i] = i*0.05-180\n",
    "dt3k={}\n",
    "for i in range(0,3600):\n",
    "    dt3k[i] = i*0.05-90\n",
    "ddf = ddf.rename(columns=dt7k,index=dt3k)\n",
    "ndf = ndf.rename(columns=dt7k,index=dt3k)\n",
    "\n",
    "ddf = ddf.stack()\n",
    "ndf = ndf.stack()\n",
    "ddf = ddf.reset_index()\n",
    "ndf = ndf.reset_index()\n",
    "ddf = ddf.rename(columns = {'level_0':'lat','level_1':'lon',0:'temp'})\n",
    "ndf = ndf.rename(columns = {'level_0':'lat','level_1':'lon',0:'temp'})\n",
    "\n",
    "ddf = ddf.loc[(ddf[\"lat\"] >= 15) &(ddf[\"lat\"] <= 60) &(ddf[\"lon\"] >=70)& (ddf[\"lon\"] <= 135)]\n",
    "ndf = ndf.loc[(ndf[\"lat\"] >= 15) &(ndf[\"lat\"] <= 60) &(ndf[\"lon\"] >=70)& (ndf[\"lon\"] <= 135)]\n",
    "df =ddf.add(ndf)\n",
    "df = df.apply(lambda x: x/2)\n",
    "df['temp'] = df['temp']*0.02\n",
    "df = df.reset_index()\n",
    "del df['index']\n",
    "\n",
    "data = []\n",
    "for row in df.itertuples(index = False):\n",
    "    point_data = {\n",
    "        'COORDINATES': [row[1], row[0]],\n",
    "        'TEMP': row[2],\n",
    "    }\n",
    "    data.append(point_data)\n",
    "\n",
    "with open(readTO, 'w') as f:\n",
    "    json.dump(data, f,indent=2)\n",
    "\n",
    "\n"
   ]
  },
  {
   "cell_type": "code",
   "execution_count": 46,
   "metadata": {},
   "outputs": [
    {
     "ename": "SyntaxError",
     "evalue": "unexpected EOF while parsing (<ipython-input-46-a5abf2c01a53>, line 10)",
     "output_type": "error",
     "traceback": [
      "\u001b[0;36m  File \u001b[0;32m\"<ipython-input-46-a5abf2c01a53>\"\u001b[0;36m, line \u001b[0;32m10\u001b[0m\n\u001b[0;31m    \u001b[0m\n\u001b[0m    ^\u001b[0m\n\u001b[0;31mSyntaxError\u001b[0m\u001b[0;31m:\u001b[0m unexpected EOF while parsing\n"
     ]
    }
   ],
   "source": [
    "l = []\n",
    "\n",
    "\n",
    "\n",
    "t = []\n",
    "for i in l:\n",
    "    if not i in t:\n",
    "        t.append(i)\n",
    "for i in t:\n",
    "    "
   ]
  },
  {
   "cell_type": "code",
   "execution_count": null,
   "metadata": {},
   "outputs": [],
   "source": []
  },
  {
   "cell_type": "code",
   "execution_count": null,
   "metadata": {},
   "outputs": [],
   "source": []
  }
 ],
 "metadata": {
  "kernelspec": {
   "display_name": "Python 3",
   "language": "python",
   "name": "python3"
  },
  "language_info": {
   "codemirror_mode": {
    "name": "ipython",
    "version": 3
   },
   "file_extension": ".py",
   "mimetype": "text/x-python",
   "name": "python",
   "nbconvert_exporter": "python",
   "pygments_lexer": "ipython3",
   "version": "3.8.5"
  }
 },
 "nbformat": 4,
 "nbformat_minor": 4
}
